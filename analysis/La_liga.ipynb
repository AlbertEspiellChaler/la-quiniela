{
 "cells": [
  {
   "cell_type": "markdown",
   "id": "8048c824-ce4f-4ad9-a8c2-a2dfd37ec614",
   "metadata": {},
   "source": [
    "**La liga analysis**"
   ]
  },
  {
   "cell_type": "markdown",
   "id": "ce64d049-97d7-4f85-afd4-ebc64bd287fd",
   "metadata": {},
   "source": [
    "Import libraries that we need"
   ]
  },
  {
   "cell_type": "markdown",
   "id": "ad2d61e7",
   "metadata": {},
   "source": []
  },
  {
   "cell_type": "code",
   "execution_count": 3,
   "id": "03b6f716-a33c-4666-9cd0-cf2334c848bc",
   "metadata": {},
   "outputs": [],
   "source": [
    "import numpy as np \n",
    "import pandas as pd \n",
    "import matplotlib.pyplot as plt \n",
    "import sqlite3"
   ]
  },
  {
   "cell_type": "markdown",
   "id": "665be8ea",
   "metadata": {},
   "source": [
    "Then we import the data from sqlite3"
   ]
  },
  {
   "cell_type": "markdown",
   "id": "cb806686",
   "metadata": {},
   "source": [
    "Open a connection to the SQLite database file. "
   ]
  },
  {
   "cell_type": "code",
   "execution_count": 9,
   "id": "934d857c",
   "metadata": {},
   "outputs": [],
   "source": [
    "db_file_path = \"C:/Users/Albert Espiell/Desktop/Master MScEg/R&I/la-quiniela/laliga.sqlite\"\n",
    "connection = sqlite3.connect(db_file_path)\n",
    "cursor = connection.cursor()"
   ]
  },
  {
   "cell_type": "markdown",
   "id": "7e4648df",
   "metadata": {},
   "source": [
    "Execute SQL queries to interact with the database"
   ]
  },
  {
   "cell_type": "code",
   "execution_count": 48,
   "id": "7926601a",
   "metadata": {},
   "outputs": [],
   "source": [
    "cursor.execute(\"SELECT * FROM Matches\")\n",
    "data = cursor.fetchall()"
   ]
  },
  {
   "cell_type": "markdown",
   "id": "2f1e145a",
   "metadata": {},
   "source": [
    "Here we can inspect the data. We want a data frame, so we convert it. "
   ]
  },
  {
   "cell_type": "code",
   "execution_count": 18,
   "id": "7bb835a8",
   "metadata": {},
   "outputs": [
    {
     "data": {
      "text/html": [
       "<div>\n",
       "<style scoped>\n",
       "    .dataframe tbody tr th:only-of-type {\n",
       "        vertical-align: middle;\n",
       "    }\n",
       "\n",
       "    .dataframe tbody tr th {\n",
       "        vertical-align: top;\n",
       "    }\n",
       "\n",
       "    .dataframe thead th {\n",
       "        text-align: right;\n",
       "    }\n",
       "</style>\n",
       "<table border=\"1\" class=\"dataframe\">\n",
       "  <thead>\n",
       "    <tr style=\"text-align: right;\">\n",
       "      <th></th>\n",
       "      <th>season</th>\n",
       "      <th>division</th>\n",
       "      <th>matchday</th>\n",
       "      <th>date</th>\n",
       "      <th>time</th>\n",
       "      <th>home_team</th>\n",
       "      <th>away_team</th>\n",
       "      <th>score</th>\n",
       "    </tr>\n",
       "  </thead>\n",
       "  <tbody>\n",
       "    <tr>\n",
       "      <th>0</th>\n",
       "      <td>1928-1929</td>\n",
       "      <td>1</td>\n",
       "      <td>1</td>\n",
       "      <td>2/10/29</td>\n",
       "      <td>None</td>\n",
       "      <td>Arenas Club</td>\n",
       "      <td>Athletic Madrid</td>\n",
       "      <td>2:3</td>\n",
       "    </tr>\n",
       "    <tr>\n",
       "      <th>1</th>\n",
       "      <td>1928-1929</td>\n",
       "      <td>1</td>\n",
       "      <td>1</td>\n",
       "      <td>2/10/29</td>\n",
       "      <td>None</td>\n",
       "      <td>Espanyol</td>\n",
       "      <td>Real Unión</td>\n",
       "      <td>3:2</td>\n",
       "    </tr>\n",
       "    <tr>\n",
       "      <th>2</th>\n",
       "      <td>1928-1929</td>\n",
       "      <td>1</td>\n",
       "      <td>1</td>\n",
       "      <td>2/10/29</td>\n",
       "      <td>None</td>\n",
       "      <td>Real Madrid</td>\n",
       "      <td>Catalunya</td>\n",
       "      <td>5:0</td>\n",
       "    </tr>\n",
       "    <tr>\n",
       "      <th>3</th>\n",
       "      <td>1928-1929</td>\n",
       "      <td>1</td>\n",
       "      <td>1</td>\n",
       "      <td>2/10/29</td>\n",
       "      <td>None</td>\n",
       "      <td>Donostia</td>\n",
       "      <td>Athletic</td>\n",
       "      <td>1:1</td>\n",
       "    </tr>\n",
       "    <tr>\n",
       "      <th>4</th>\n",
       "      <td>1928-1929</td>\n",
       "      <td>1</td>\n",
       "      <td>1</td>\n",
       "      <td>2/12/29</td>\n",
       "      <td>None</td>\n",
       "      <td>Racing</td>\n",
       "      <td>Barcelona</td>\n",
       "      <td>0:2</td>\n",
       "    </tr>\n",
       "    <tr>\n",
       "      <th>...</th>\n",
       "      <td>...</td>\n",
       "      <td>...</td>\n",
       "      <td>...</td>\n",
       "      <td>...</td>\n",
       "      <td>...</td>\n",
       "      <td>...</td>\n",
       "      <td>...</td>\n",
       "      <td>...</td>\n",
       "    </tr>\n",
       "    <tr>\n",
       "      <th>48775</th>\n",
       "      <td>2021-2022</td>\n",
       "      <td>2</td>\n",
       "      <td>42</td>\n",
       "      <td>5/29/22</td>\n",
       "      <td>None</td>\n",
       "      <td>Real Oviedo</td>\n",
       "      <td>UD Ibiza</td>\n",
       "      <td>None</td>\n",
       "    </tr>\n",
       "    <tr>\n",
       "      <th>48776</th>\n",
       "      <td>2021-2022</td>\n",
       "      <td>2</td>\n",
       "      <td>42</td>\n",
       "      <td>5/29/22</td>\n",
       "      <td>None</td>\n",
       "      <td>Real Sociedad B</td>\n",
       "      <td>Real Zaragoza</td>\n",
       "      <td>None</td>\n",
       "    </tr>\n",
       "    <tr>\n",
       "      <th>48777</th>\n",
       "      <td>2021-2022</td>\n",
       "      <td>2</td>\n",
       "      <td>42</td>\n",
       "      <td>5/29/22</td>\n",
       "      <td>None</td>\n",
       "      <td>Sporting Gijón</td>\n",
       "      <td>UD Las Palmas</td>\n",
       "      <td>None</td>\n",
       "    </tr>\n",
       "    <tr>\n",
       "      <th>48778</th>\n",
       "      <td>2021-2022</td>\n",
       "      <td>2</td>\n",
       "      <td>42</td>\n",
       "      <td>5/29/22</td>\n",
       "      <td>None</td>\n",
       "      <td>CD Tenerife</td>\n",
       "      <td>FC Cartagena</td>\n",
       "      <td>None</td>\n",
       "    </tr>\n",
       "    <tr>\n",
       "      <th>48779</th>\n",
       "      <td>2021-2022</td>\n",
       "      <td>2</td>\n",
       "      <td>42</td>\n",
       "      <td>5/29/22</td>\n",
       "      <td>None</td>\n",
       "      <td>Real Valladolid</td>\n",
       "      <td>SD Huesca</td>\n",
       "      <td>None</td>\n",
       "    </tr>\n",
       "  </tbody>\n",
       "</table>\n",
       "<p>48780 rows × 8 columns</p>\n",
       "</div>"
      ],
      "text/plain": [
       "          season  division  matchday     date  time        home_team  \\\n",
       "0      1928-1929         1         1  2/10/29  None      Arenas Club   \n",
       "1      1928-1929         1         1  2/10/29  None         Espanyol   \n",
       "2      1928-1929         1         1  2/10/29  None      Real Madrid   \n",
       "3      1928-1929         1         1  2/10/29  None         Donostia   \n",
       "4      1928-1929         1         1  2/12/29  None           Racing   \n",
       "...          ...       ...       ...      ...   ...              ...   \n",
       "48775  2021-2022         2        42  5/29/22  None      Real Oviedo   \n",
       "48776  2021-2022         2        42  5/29/22  None  Real Sociedad B   \n",
       "48777  2021-2022         2        42  5/29/22  None   Sporting Gijón   \n",
       "48778  2021-2022         2        42  5/29/22  None      CD Tenerife   \n",
       "48779  2021-2022         2        42  5/29/22  None  Real Valladolid   \n",
       "\n",
       "             away_team score  \n",
       "0      Athletic Madrid   2:3  \n",
       "1           Real Unión   3:2  \n",
       "2            Catalunya   5:0  \n",
       "3             Athletic   1:1  \n",
       "4            Barcelona   0:2  \n",
       "...                ...   ...  \n",
       "48775         UD Ibiza  None  \n",
       "48776    Real Zaragoza  None  \n",
       "48777    UD Las Palmas  None  \n",
       "48778     FC Cartagena  None  \n",
       "48779        SD Huesca  None  \n",
       "\n",
       "[48780 rows x 8 columns]"
      ]
     },
     "execution_count": 18,
     "metadata": {},
     "output_type": "execute_result"
    }
   ],
   "source": [
    "columns = [\"season\",\"division\", \"matchday\", \"date\", \"time\", \"home_team\", \"away_team\", \"score\"]\n",
    "df = pd.DataFrame(data, columns=columns)\n",
    "\n",
    "df"
   ]
  },
  {
   "cell_type": "markdown",
   "id": "38bd2f9a-5306-4967-82f7-e00483b579b3",
   "metadata": {},
   "source": [
    "a) Is it true that the home team is more likely to win? Make a pie chart showing the result distribution (whether home team wins, visitor team wins, or there’s a tie) of all matches in the data. Write in the plot the percentage o each category"
   ]
  },
  {
   "cell_type": "code",
   "execution_count": 60,
   "id": "b38076aa-f9f1-4c32-bd30-13393d1df23c",
   "metadata": {},
   "outputs": [
    {
     "data": {
      "image/png": "[encoded data removed]",
      "text/plain": [
       "<Figure size 640x480 with 1 Axes>"
      ]
     },
     "metadata": {},
     "output_type": "display_data"
    }
   ],
   "source": [
    "df = df.dropna()\n",
    "\n",
    "df[['home_score', 'away_score']] = df['score'].str.split(':', expand=True)\n",
    "#Create a new variable called with the match result, using np.where function\n",
    "df['result'] = np.where(df['home_score'] > df['away_score'], 'Home Win',\n",
    "                        np.where(df['home_score'] < df['away_score'], 'Away Win', 'Draw'))\n",
    "\n",
    "#Cont the number of times every result apears\n",
    "counts = df['result'].value_counts()\n",
    "\n",
    "plt.pie(counts, autopct='%1.1f%%', startangle=90)\n",
    "plt.axis('equal')\n",
    "plt.title('Match Results')\n",
    "plt.show()"
   ]
  },
  {
   "cell_type": "markdown",
   "id": "e5a17c8b-63fe-4449-a883-62d680be22e1",
   "metadata": {},
   "source": [
    "b) What are the top ten scoring teams of all time? What are the ten teams \n",
    "that concede the most? Make two bar plot charts showing each of them.\n",
    "Consider only matches played in 1st divisio .\n",
    "What have been the biggest wins? Of course, when we say bigg,est we m an\n",
    "those with the highest goal difference. Show the top ten of them in a table."
   ]
  },
  {
   "cell_type": "code",
   "execution_count": 63,
   "id": "40f78ddf",
   "metadata": {},
   "outputs": [
    {
     "ename": "KeyError",
     "evalue": "'home_team'",
     "output_type": "error",
     "traceback": [
      "\u001b[1;31m---------------------------------------------------------------------------\u001b[0m",
      "\u001b[1;31mKeyError\u001b[0m                                  Traceback (most recent call last)",
      "File \u001b[1;32m~\\AppData\\Local\\Packages\\PythonSoftwareFoundation.Python.3.11_qbz5n2kfra8p0\\LocalCache\\local-packages\\Python311\\site-packages\\pandas\\core\\indexes\\base.py:3790\u001b[0m, in \u001b[0;36mIndex.get_loc\u001b[1;34m(self, key)\u001b[0m\n\u001b[0;32m   3789\u001b[0m \u001b[39mtry\u001b[39;00m:\n\u001b[1;32m-> 3790\u001b[0m     \u001b[39mreturn\u001b[39;00m \u001b[39mself\u001b[39;49m\u001b[39m.\u001b[39;49m_engine\u001b[39m.\u001b[39;49mget_loc(casted_key)\n\u001b[0;32m   3791\u001b[0m \u001b[39mexcept\u001b[39;00m \u001b[39mKeyError\u001b[39;00m \u001b[39mas\u001b[39;00m err:\n",
      "File \u001b[1;32mindex.pyx:152\u001b[0m, in \u001b[0;36mpandas._libs.index.IndexEngine.get_loc\u001b[1;34m()\u001b[0m\n",
      "File \u001b[1;32mindex.pyx:160\u001b[0m, in \u001b[0;36mpandas._libs.index.IndexEngine.get_loc\u001b[1;34m()\u001b[0m\n",
      "File \u001b[1;32mpandas\\_libs\\index_class_helper.pxi:70\u001b[0m, in \u001b[0;36mpandas._libs.index.Int64Engine._check_type\u001b[1;34m()\u001b[0m\n",
      "\u001b[1;31mKeyError\u001b[0m: 'home_team'",
      "\nThe above exception was the direct cause of the following exception:\n",
      "\u001b[1;31mKeyError\u001b[0m                                  Traceback (most recent call last)",
      "\u001b[1;32mc:\\Users\\Albert Espiell\\Desktop\\Master MScEg\\R&I\\la-quiniela\\analysis\\La_liga.ipynb Cell 14\u001b[0m line \u001b[0;36m1\n\u001b[1;32m----> <a href='vscode-notebook-cell:/c%3A/Users/Albert%20Espiell/Desktop/Master%20MScEg/R%26I/la-quiniela/analysis/La_liga.ipynb#X21sZmlsZQ%3D%3D?line=0'>1</a>\u001b[0m df\u001b[39m.\u001b[39;49mloc[\u001b[39m\"\u001b[39;49m\u001b[39mhome_team\u001b[39;49m\u001b[39m\"\u001b[39;49m]\n",
      "File \u001b[1;32m~\\AppData\\Local\\Packages\\PythonSoftwareFoundation.Python.3.11_qbz5n2kfra8p0\\LocalCache\\local-packages\\Python311\\site-packages\\pandas\\core\\indexing.py:1153\u001b[0m, in \u001b[0;36m_LocationIndexer.__getitem__\u001b[1;34m(self, key)\u001b[0m\n\u001b[0;32m   1150\u001b[0m axis \u001b[39m=\u001b[39m \u001b[39mself\u001b[39m\u001b[39m.\u001b[39maxis \u001b[39mor\u001b[39;00m \u001b[39m0\u001b[39m\n\u001b[0;32m   1152\u001b[0m maybe_callable \u001b[39m=\u001b[39m com\u001b[39m.\u001b[39mapply_if_callable(key, \u001b[39mself\u001b[39m\u001b[39m.\u001b[39mobj)\n\u001b[1;32m-> 1153\u001b[0m \u001b[39mreturn\u001b[39;00m \u001b[39mself\u001b[39;49m\u001b[39m.\u001b[39;49m_getitem_axis(maybe_callable, axis\u001b[39m=\u001b[39;49maxis)\n",
      "File \u001b[1;32m~\\AppData\\Local\\Packages\\PythonSoftwareFoundation.Python.3.11_qbz5n2kfra8p0\\LocalCache\\local-packages\\Python311\\site-packages\\pandas\\core\\indexing.py:1393\u001b[0m, in \u001b[0;36m_LocIndexer._getitem_axis\u001b[1;34m(self, key, axis)\u001b[0m\n\u001b[0;32m   1391\u001b[0m \u001b[39m# fall thru to straight lookup\u001b[39;00m\n\u001b[0;32m   1392\u001b[0m \u001b[39mself\u001b[39m\u001b[39m.\u001b[39m_validate_key(key, axis)\n\u001b[1;32m-> 1393\u001b[0m \u001b[39mreturn\u001b[39;00m \u001b[39mself\u001b[39;49m\u001b[39m.\u001b[39;49m_get_label(key, axis\u001b[39m=\u001b[39;49maxis)\n",
      "File \u001b[1;32m~\\AppData\\Local\\Packages\\PythonSoftwareFoundation.Python.3.11_qbz5n2kfra8p0\\LocalCache\\local-packages\\Python311\\site-packages\\pandas\\core\\indexing.py:1343\u001b[0m, in \u001b[0;36m_LocIndexer._get_label\u001b[1;34m(self, label, axis)\u001b[0m\n\u001b[0;32m   1341\u001b[0m \u001b[39mdef\u001b[39;00m \u001b[39m_get_label\u001b[39m(\u001b[39mself\u001b[39m, label, axis: AxisInt):\n\u001b[0;32m   1342\u001b[0m     \u001b[39m# GH#5567 this will fail if the label is not present in the axis.\u001b[39;00m\n\u001b[1;32m-> 1343\u001b[0m     \u001b[39mreturn\u001b[39;00m \u001b[39mself\u001b[39;49m\u001b[39m.\u001b[39;49mobj\u001b[39m.\u001b[39;49mxs(label, axis\u001b[39m=\u001b[39;49maxis)\n",
      "File \u001b[1;32m~\\AppData\\Local\\Packages\\PythonSoftwareFoundation.Python.3.11_qbz5n2kfra8p0\\LocalCache\\local-packages\\Python311\\site-packages\\pandas\\core\\generic.py:4236\u001b[0m, in \u001b[0;36mNDFrame.xs\u001b[1;34m(self, key, axis, level, drop_level)\u001b[0m\n\u001b[0;32m   4234\u001b[0m             new_index \u001b[39m=\u001b[39m index[loc]\n\u001b[0;32m   4235\u001b[0m \u001b[39melse\u001b[39;00m:\n\u001b[1;32m-> 4236\u001b[0m     loc \u001b[39m=\u001b[39m index\u001b[39m.\u001b[39;49mget_loc(key)\n\u001b[0;32m   4238\u001b[0m     \u001b[39mif\u001b[39;00m \u001b[39misinstance\u001b[39m(loc, np\u001b[39m.\u001b[39mndarray):\n\u001b[0;32m   4239\u001b[0m         \u001b[39mif\u001b[39;00m loc\u001b[39m.\u001b[39mdtype \u001b[39m==\u001b[39m np\u001b[39m.\u001b[39mbool_:\n",
      "File \u001b[1;32m~\\AppData\\Local\\Packages\\PythonSoftwareFoundation.Python.3.11_qbz5n2kfra8p0\\LocalCache\\local-packages\\Python311\\site-packages\\pandas\\core\\indexes\\base.py:3797\u001b[0m, in \u001b[0;36mIndex.get_loc\u001b[1;34m(self, key)\u001b[0m\n\u001b[0;32m   3792\u001b[0m     \u001b[39mif\u001b[39;00m \u001b[39misinstance\u001b[39m(casted_key, \u001b[39mslice\u001b[39m) \u001b[39mor\u001b[39;00m (\n\u001b[0;32m   3793\u001b[0m         \u001b[39misinstance\u001b[39m(casted_key, abc\u001b[39m.\u001b[39mIterable)\n\u001b[0;32m   3794\u001b[0m         \u001b[39mand\u001b[39;00m \u001b[39many\u001b[39m(\u001b[39misinstance\u001b[39m(x, \u001b[39mslice\u001b[39m) \u001b[39mfor\u001b[39;00m x \u001b[39min\u001b[39;00m casted_key)\n\u001b[0;32m   3795\u001b[0m     ):\n\u001b[0;32m   3796\u001b[0m         \u001b[39mraise\u001b[39;00m InvalidIndexError(key)\n\u001b[1;32m-> 3797\u001b[0m     \u001b[39mraise\u001b[39;00m \u001b[39mKeyError\u001b[39;00m(key) \u001b[39mfrom\u001b[39;00m \u001b[39merr\u001b[39;00m\n\u001b[0;32m   3798\u001b[0m \u001b[39mexcept\u001b[39;00m \u001b[39mTypeError\u001b[39;00m:\n\u001b[0;32m   3799\u001b[0m     \u001b[39m# If we have a listlike key, _check_indexing_error will raise\u001b[39;00m\n\u001b[0;32m   3800\u001b[0m     \u001b[39m#  InvalidIndexError. Otherwise we fall through and re-raise\u001b[39;00m\n\u001b[0;32m   3801\u001b[0m     \u001b[39m#  the TypeError.\u001b[39;00m\n\u001b[0;32m   3802\u001b[0m     \u001b[39mself\u001b[39m\u001b[39m.\u001b[39m_check_indexing_error(key)\n",
      "\u001b[1;31mKeyError\u001b[0m: 'home_team'"
     ]
    }
   ],
   "source": []
  },
  {
   "cell_type": "markdown",
   "id": "b9c47829",
   "metadata": {},
   "source": []
  }
 ],
 "metadata": {
  "kernelspec": {
   "display_name": "Python 3 (ipykernel)",
   "language": "python",
   "name": "python3"
  },
  "language_info": {
   "codemirror_mode": {
    "name": "ipython",
    "version": 3
   },
   "file_extension": ".py",
   "mimetype": "text/x-python",
   "name": "python",
   "nbconvert_exporter": "python",
   "pygments_lexer": "ipython3",
   "version": "3.11.6"
  }
 },
 "nbformat": 4,
 "nbformat_minor": 5
}
